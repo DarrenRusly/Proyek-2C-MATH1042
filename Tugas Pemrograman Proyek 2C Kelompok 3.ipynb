{
 "cells": [
  {
   "cell_type": "markdown",
   "metadata": {},
   "source": [
    "<h1>Project 2C MATH1042 - Peluang dan Statistika</h1>\n",
    "\n",
    "<b style=\"font-size:20px\">Tugas Pemrograman</b>\n",
    "\n",
    "<b style=\"font-size:16px;\">Anggota Kelompok:</b>\n",
    "\n",
    "<ul>\n",
    "    <li>Darren Nathaniel Rusly - 10101190104 - <a href=\"https://github.com/DarrenRusly/\">Git</a></li>\n",
    "    <li>Felicia Yolanda - 10102190618 - <a href=\"https://github.com/feliciagrace23/\">Git</a></li>\n",
    "    <li>Gracheilla A. S - 10103190598 - <a href=\"https://github.com/GracheillaAngel/\">Git</a></li>\n",
    "    <li>Rivaldo Linogi - 10101190177 - <a href=\"https://github.com/rivaldopieter/\">Git</a></li>\n",
    "    <li>Victor Chendra - 10101200338 - <a href=\"https://github.com/victorchendra02/\">Git</a></li>\n",
    "</ul>"
   ]
  },
  {
   "cell_type": "markdown",
   "metadata": {},
   "source": [
    "<h1> ________________________________________________________________________________________ </h1>"
   ]
  },
  {
   "cell_type": "markdown",
   "metadata": {},
   "source": [
    "<h1> 1. GRAFTON WEST </h1>"
   ]
  },
  {
   "cell_type": "code",
   "execution_count": 2,
   "metadata": {},
   "outputs": [
    {
     "data": {
      "text/html": [
       "<div>\n",
       "<style scoped>\n",
       "    .dataframe tbody tr th:only-of-type {\n",
       "        vertical-align: middle;\n",
       "    }\n",
       "\n",
       "    .dataframe tbody tr th {\n",
       "        vertical-align: top;\n",
       "    }\n",
       "\n",
       "    .dataframe thead th {\n",
       "        text-align: right;\n",
       "    }\n",
       "</style>\n",
       "<table border=\"1\" class=\"dataframe\">\n",
       "  <thead>\n",
       "    <tr style=\"text-align: right;\">\n",
       "      <th></th>\n",
       "      <th>Facility</th>\n",
       "      <th>Carpark</th>\n",
       "      <th>Device</th>\n",
       "      <th>Entries</th>\n",
       "      <th>Exits</th>\n",
       "      <th>Parking Duration</th>\n",
       "      <th>Time</th>\n",
       "      <th>Unnamed: 7</th>\n",
       "    </tr>\n",
       "  </thead>\n",
       "  <tbody>\n",
       "    <tr>\n",
       "      <th>0</th>\n",
       "      <td>GraftonWest</td>\n",
       "      <td>Grafton West</td>\n",
       "      <td>GW Exit 2</td>\n",
       "      <td>0</td>\n",
       "      <td>1</td>\n",
       "      <td>362</td>\n",
       "      <td>01/12/2018 01:04</td>\n",
       "      <td>NaN</td>\n",
       "    </tr>\n",
       "    <tr>\n",
       "      <th>1</th>\n",
       "      <td>GraftonWest</td>\n",
       "      <td>Grafton West</td>\n",
       "      <td>GW Exit 1</td>\n",
       "      <td>0</td>\n",
       "      <td>1</td>\n",
       "      <td>245</td>\n",
       "      <td>01/12/2018 01:29</td>\n",
       "      <td>NaN</td>\n",
       "    </tr>\n",
       "    <tr>\n",
       "      <th>2</th>\n",
       "      <td>GraftonWest</td>\n",
       "      <td>Grafton West</td>\n",
       "      <td>GW Entry 1</td>\n",
       "      <td>1</td>\n",
       "      <td>0</td>\n",
       "      <td>0</td>\n",
       "      <td>01/12/2018 07:21</td>\n",
       "      <td>NaN</td>\n",
       "    </tr>\n",
       "    <tr>\n",
       "      <th>3</th>\n",
       "      <td>GraftonWest</td>\n",
       "      <td>Grafton West</td>\n",
       "      <td>GW Exit 1</td>\n",
       "      <td>0</td>\n",
       "      <td>1</td>\n",
       "      <td>17</td>\n",
       "      <td>01/12/2018 07:37</td>\n",
       "      <td>NaN</td>\n",
       "    </tr>\n",
       "    <tr>\n",
       "      <th>4</th>\n",
       "      <td>GraftonWest</td>\n",
       "      <td>Grafton West</td>\n",
       "      <td>GW Entry 2</td>\n",
       "      <td>1</td>\n",
       "      <td>0</td>\n",
       "      <td>0</td>\n",
       "      <td>01/12/2018 07:44</td>\n",
       "      <td>NaN</td>\n",
       "    </tr>\n",
       "    <tr>\n",
       "      <th>...</th>\n",
       "      <td>...</td>\n",
       "      <td>...</td>\n",
       "      <td>...</td>\n",
       "      <td>...</td>\n",
       "      <td>...</td>\n",
       "      <td>...</td>\n",
       "      <td>...</td>\n",
       "      <td>...</td>\n",
       "    </tr>\n",
       "    <tr>\n",
       "      <th>172588</th>\n",
       "      <td>GraftonWest</td>\n",
       "      <td>Grafton West</td>\n",
       "      <td>GW Exit 1</td>\n",
       "      <td>0</td>\n",
       "      <td>1</td>\n",
       "      <td>127</td>\n",
       "      <td>31/12/2018 21:24</td>\n",
       "      <td>NaN</td>\n",
       "    </tr>\n",
       "    <tr>\n",
       "      <th>172589</th>\n",
       "      <td>GraftonWest</td>\n",
       "      <td>Grafton West</td>\n",
       "      <td>GW Exit 1</td>\n",
       "      <td>0</td>\n",
       "      <td>1</td>\n",
       "      <td>190</td>\n",
       "      <td>31/12/2018 21:43</td>\n",
       "      <td>NaN</td>\n",
       "    </tr>\n",
       "    <tr>\n",
       "      <th>172590</th>\n",
       "      <td>GraftonWest</td>\n",
       "      <td>Grafton West</td>\n",
       "      <td>GW Exit 1</td>\n",
       "      <td>0</td>\n",
       "      <td>1</td>\n",
       "      <td>288</td>\n",
       "      <td>31/12/2018 22:46</td>\n",
       "      <td>NaN</td>\n",
       "    </tr>\n",
       "    <tr>\n",
       "      <th>172591</th>\n",
       "      <td>GraftonWest</td>\n",
       "      <td>Grafton West</td>\n",
       "      <td>GW Exit 1</td>\n",
       "      <td>0</td>\n",
       "      <td>1</td>\n",
       "      <td>158</td>\n",
       "      <td>31/12/2018 22:59</td>\n",
       "      <td>NaN</td>\n",
       "    </tr>\n",
       "    <tr>\n",
       "      <th>172592</th>\n",
       "      <td>GraftonWest</td>\n",
       "      <td>Grafton West</td>\n",
       "      <td>GW Exit 1</td>\n",
       "      <td>0</td>\n",
       "      <td>1</td>\n",
       "      <td>219</td>\n",
       "      <td>31/12/2018 23:32</td>\n",
       "      <td>NaN</td>\n",
       "    </tr>\n",
       "  </tbody>\n",
       "</table>\n",
       "<p>172593 rows × 8 columns</p>\n",
       "</div>"
      ],
      "text/plain": [
       "           Facility       Carpark      Device  Entries  Exits  \\\n",
       "0       GraftonWest  Grafton West   GW Exit 2        0      1   \n",
       "1       GraftonWest  Grafton West   GW Exit 1        0      1   \n",
       "2       GraftonWest  Grafton West  GW Entry 1        1      0   \n",
       "3       GraftonWest  Grafton West   GW Exit 1        0      1   \n",
       "4       GraftonWest  Grafton West  GW Entry 2        1      0   \n",
       "...             ...           ...         ...      ...    ...   \n",
       "172588  GraftonWest  Grafton West   GW Exit 1        0      1   \n",
       "172589  GraftonWest  Grafton West   GW Exit 1        0      1   \n",
       "172590  GraftonWest  Grafton West   GW Exit 1        0      1   \n",
       "172591  GraftonWest  Grafton West   GW Exit 1        0      1   \n",
       "172592  GraftonWest  Grafton West   GW Exit 1        0      1   \n",
       "\n",
       "       Parking Duration              Time  Unnamed: 7  \n",
       "0                   362  01/12/2018 01:04         NaN  \n",
       "1                   245  01/12/2018 01:29         NaN  \n",
       "2                     0  01/12/2018 07:21         NaN  \n",
       "3                    17  01/12/2018 07:37         NaN  \n",
       "4                     0  01/12/2018 07:44         NaN  \n",
       "...                 ...               ...         ...  \n",
       "172588              127  31/12/2018 21:24         NaN  \n",
       "172589              190  31/12/2018 21:43         NaN  \n",
       "172590              288  31/12/2018 22:46         NaN  \n",
       "172591              158  31/12/2018 22:59         NaN  \n",
       "172592              219  31/12/2018 23:32         NaN  \n",
       "\n",
       "[172593 rows x 8 columns]"
      ]
     },
     "execution_count": 2,
     "metadata": {},
     "output_type": "execute_result"
    }
   ],
   "source": [
    "import pandas as pd\n",
    "\n",
    "dataset1 = pd.read_csv(\"grafton.csv\")\n",
    "dataset1.drop(columns=[\"Unnamed: 7\"])\n",
    "dataset1"
   ]
  },
  {
   "cell_type": "code",
   "execution_count": 3,
   "metadata": {},
   "outputs": [
    {
     "name": "stdout",
     "output_type": "stream",
     "text": [
      "<class 'pandas.core.frame.DataFrame'>\n",
      "RangeIndex: 172593 entries, 0 to 172592\n",
      "Data columns (total 8 columns):\n",
      " #   Column            Non-Null Count   Dtype  \n",
      "---  ------            --------------   -----  \n",
      " 0   Facility          172593 non-null  object \n",
      " 1   Carpark           172593 non-null  object \n",
      " 2   Device            172593 non-null  object \n",
      " 3   Entries           172593 non-null  int64  \n",
      " 4   Exits             172593 non-null  int64  \n",
      " 5   Parking Duration  172593 non-null  object \n",
      " 6   Time              172593 non-null  object \n",
      " 7   Unnamed: 7        0 non-null       float64\n",
      "dtypes: float64(1), int64(2), object(5)\n",
      "memory usage: 10.5+ MB\n"
     ]
    }
   ],
   "source": [
    "dataset1.info()"
   ]
  },
  {
   "cell_type": "code",
   "execution_count": 4,
   "metadata": {},
   "outputs": [
    {
     "name": "stderr",
     "output_type": "stream",
     "text": [
      "<ipython-input-4-3f2033f5776d>:3: SettingWithCopyWarning: \n",
      "A value is trying to be set on a copy of a slice from a DataFrame\n",
      "\n",
      "See the caveats in the documentation: https://pandas.pydata.org/pandas-docs/stable/user_guide/indexing.html#returning-a-view-versus-a-copy\n",
      "  dataset1[\"Parking Duration\"][i] = dataset1[\"Parking Duration\"][i].replace(\",\",\"\")\n"
     ]
    }
   ],
   "source": [
    "for i in range(len(dataset1[\"Parking Duration\"])):\n",
    "    if \",\" in dataset1[\"Parking Duration\"][i]:\n",
    "        dataset1[\"Parking Duration\"][i] = dataset1[\"Parking Duration\"][i].replace(\",\",\"\")"
   ]
  },
  {
   "cell_type": "code",
   "execution_count": 5,
   "metadata": {},
   "outputs": [
    {
     "name": "stdout",
     "output_type": "stream",
     "text": [
      "<class 'pandas.core.frame.DataFrame'>\n",
      "RangeIndex: 172593 entries, 0 to 172592\n",
      "Data columns (total 8 columns):\n",
      " #   Column            Non-Null Count   Dtype  \n",
      "---  ------            --------------   -----  \n",
      " 0   Facility          172593 non-null  object \n",
      " 1   Carpark           172593 non-null  object \n",
      " 2   Device            172593 non-null  object \n",
      " 3   Entries           172593 non-null  int64  \n",
      " 4   Exits             172593 non-null  int64  \n",
      " 5   Parking Duration  172593 non-null  float64\n",
      " 6   Time              172593 non-null  object \n",
      " 7   Unnamed: 7        0 non-null       float64\n",
      "dtypes: float64(2), int64(2), object(4)\n",
      "memory usage: 10.5+ MB\n"
     ]
    }
   ],
   "source": [
    "dataset1['Parking Duration'] = dataset1['Parking Duration'].astype(float)\n",
    "dataset1.info()"
   ]
  },
  {
   "cell_type": "code",
   "execution_count": 6,
   "metadata": {},
   "outputs": [],
   "source": [
    "dataset1_filtered = dataset1[dataset1['Parking Duration'] > 0]"
   ]
  },
  {
   "cell_type": "code",
   "execution_count": 7,
   "metadata": {},
   "outputs": [
    {
     "name": "stderr",
     "output_type": "stream",
     "text": [
      "c:\\users\\darre\\appdata\\local\\programs\\python\\python38\\lib\\site-packages\\seaborn\\distributions.py:2557: FutureWarning: `distplot` is a deprecated function and will be removed in a future version. Please adapt your code to use either `displot` (a figure-level function with similar flexibility) or `histplot` (an axes-level function for histograms).\n",
      "  warnings.warn(msg, FutureWarning)\n"
     ]
    },
    {
     "data": {
      "image/png": "[encoded data removed]",
      "text/plain": [
       "<Figure size 792x288 with 1 Axes>"
      ]
     },
     "metadata": {},
     "output_type": "display_data"
    }
   ],
   "source": [
    "import seaborn as sns\n",
    "import matplotlib.pyplot as plt\n",
    "\n",
    "plt.rcParams['figure.figsize'] = (11, 4)\n",
    "plt.style.use('fivethirtyeight')\n",
    "\n",
    "plt.xticks(rotation=30)\n",
    "sns.distplot(dataset1_filtered['Parking Duration'])\n",
    "plt.title('Distribution of Parking Duration')\n",
    "plt.show()"
   ]
  },
  {
   "cell_type": "code",
   "execution_count": 8,
   "metadata": {},
   "outputs": [
    {
     "data": {
      "image/png": "[encoded data removed]",
      "text/plain": [
       "<Figure size 576x432 with 1 Axes>"
      ]
     },
     "metadata": {},
     "output_type": "display_data"
    }
   ],
   "source": [
    "plt.rcParams['figure.figsize'] = (8, 6)\n",
    "plt.boxplot(dataset1_filtered[\"Parking Duration\"])\n",
    "plt.show()"
   ]
  },
  {
   "cell_type": "code",
   "execution_count": 9,
   "metadata": {},
   "outputs": [
    {
     "name": "stdout",
     "output_type": "stream",
     "text": [
      "rata-rata sampel Grafton West: 99.67682983251596\n",
      "standar deviasi sampel Grafton West: 79.63327479029056\n"
     ]
    }
   ],
   "source": [
    "grafton_mean = dataset1_filtered[\"Parking Duration\"].mean()\n",
    "grafton_std = dataset1_filtered[\"Parking Duration\"].std()\n",
    "\n",
    "print(f\"rata-rata sampel Grafton West: {grafton_mean}\")\n",
    "print(f\"standar deviasi sampel Grafton West: {grafton_std}\")"
   ]
  },
  {
   "cell_type": "code",
   "execution_count": 10,
   "metadata": {},
   "outputs": [
    {
     "name": "stdout",
     "output_type": "stream",
     "text": [
      "Batas selang tingkat kepercayaan adalah 99.14600506565371 < rataan_sampel < 100.20765459937822\n"
     ]
    }
   ],
   "source": [
    "import numpy as np\n",
    "from scipy.stats import t\n",
    "import math\n",
    "\n",
    "num_sample = dataset1_filtered[\"Parking Duration\"].size\n",
    "\n",
    "dof = num_sample - 1\n",
    "\n",
    "p = 0.975\n",
    "\n",
    "t_value = t.ppf(p, dof)\n",
    "\n",
    "margin_of_error = t_value * grafton_std / math.sqrt(num_sample)\n",
    "\n",
    "print('Batas selang tingkat kepercayaan adalah', \n",
    "      grafton_mean - margin_of_error, '< rataan_sampel <', grafton_mean + margin_of_error)"
   ]
  },
  {
   "cell_type": "code",
   "execution_count": 11,
   "metadata": {},
   "outputs": [
    {
     "name": "stdout",
     "output_type": "stream",
     "text": [
      "Batas selang tingkat kepercayaan adalah 99.14601249716617 < rataan_sampel < 100.20764716786576\n"
     ]
    }
   ],
   "source": [
    "import scipy.stats as stats\n",
    "\n",
    "np.random.seed(10)\n",
    "\n",
    "z_score = stats.norm.ppf(p)\n",
    "\n",
    "margin_of_error = z_score * grafton_std / math.sqrt(num_sample)\n",
    "\n",
    "print('Batas selang tingkat kepercayaan adalah', \n",
    "      grafton_mean - margin_of_error, '< rataan_sampel <', grafton_mean + margin_of_error)"
   ]
  },
  {
   "cell_type": "markdown",
   "metadata": {},
   "source": [
    "<h1> 2. QUEEN ANNE'S TERRACE </h1>"
   ]
  },
  {
   "cell_type": "code",
   "execution_count": 12,
   "metadata": {},
   "outputs": [
    {
     "data": {
      "text/html": [
       "<div>\n",
       "<style scoped>\n",
       "    .dataframe tbody tr th:only-of-type {\n",
       "        vertical-align: middle;\n",
       "    }\n",
       "\n",
       "    .dataframe tbody tr th {\n",
       "        vertical-align: top;\n",
       "    }\n",
       "\n",
       "    .dataframe thead th {\n",
       "        text-align: right;\n",
       "    }\n",
       "</style>\n",
       "<table border=\"1\" class=\"dataframe\">\n",
       "  <thead>\n",
       "    <tr style=\"text-align: right;\">\n",
       "      <th></th>\n",
       "      <th>Facility</th>\n",
       "      <th>Carpark</th>\n",
       "      <th>Device</th>\n",
       "      <th>Entries</th>\n",
       "      <th>Exits</th>\n",
       "      <th>Parking Duration</th>\n",
       "      <th>Time</th>\n",
       "    </tr>\n",
       "  </thead>\n",
       "  <tbody>\n",
       "    <tr>\n",
       "      <th>0</th>\n",
       "      <td>Queen Anne</td>\n",
       "      <td>Queen Anne Terrace</td>\n",
       "      <td>QAT Entry 2</td>\n",
       "      <td>1</td>\n",
       "      <td>0</td>\n",
       "      <td>0</td>\n",
       "      <td>01/10/2018 06:06</td>\n",
       "    </tr>\n",
       "    <tr>\n",
       "      <th>1</th>\n",
       "      <td>Queen Anne</td>\n",
       "      <td>Queen Anne Terrace</td>\n",
       "      <td>QAT Entry 1</td>\n",
       "      <td>1</td>\n",
       "      <td>0</td>\n",
       "      <td>0</td>\n",
       "      <td>01/10/2018 06:31</td>\n",
       "    </tr>\n",
       "    <tr>\n",
       "      <th>2</th>\n",
       "      <td>Queen Anne</td>\n",
       "      <td>Queen Anne Terrace</td>\n",
       "      <td>QAT Entry 2</td>\n",
       "      <td>1</td>\n",
       "      <td>0</td>\n",
       "      <td>523</td>\n",
       "      <td>01/10/2018 06:31</td>\n",
       "    </tr>\n",
       "    <tr>\n",
       "      <th>3</th>\n",
       "      <td>Queen Anne</td>\n",
       "      <td>Queen Anne Terrace</td>\n",
       "      <td>QAT Entry 1</td>\n",
       "      <td>1</td>\n",
       "      <td>0</td>\n",
       "      <td>0</td>\n",
       "      <td>01/10/2018 06:37</td>\n",
       "    </tr>\n",
       "    <tr>\n",
       "      <th>4</th>\n",
       "      <td>Queen Anne</td>\n",
       "      <td>Queen Anne Terrace</td>\n",
       "      <td>QAT Entry 1</td>\n",
       "      <td>1</td>\n",
       "      <td>0</td>\n",
       "      <td>0</td>\n",
       "      <td>01/10/2018 06:48</td>\n",
       "    </tr>\n",
       "    <tr>\n",
       "      <th>...</th>\n",
       "      <td>...</td>\n",
       "      <td>...</td>\n",
       "      <td>...</td>\n",
       "      <td>...</td>\n",
       "      <td>...</td>\n",
       "      <td>...</td>\n",
       "      <td>...</td>\n",
       "    </tr>\n",
       "    <tr>\n",
       "      <th>218674</th>\n",
       "      <td>Queen Anne</td>\n",
       "      <td>Queen Anne Terrace</td>\n",
       "      <td>QAT Exit 1</td>\n",
       "      <td>0</td>\n",
       "      <td>1</td>\n",
       "      <td>138</td>\n",
       "      <td>31/12/2018 22:43</td>\n",
       "    </tr>\n",
       "    <tr>\n",
       "      <th>218675</th>\n",
       "      <td>Queen Anne</td>\n",
       "      <td>Queen Anne Terrace</td>\n",
       "      <td>QAT Exit 1</td>\n",
       "      <td>0</td>\n",
       "      <td>1</td>\n",
       "      <td>219</td>\n",
       "      <td>31/12/2018 22:50</td>\n",
       "    </tr>\n",
       "    <tr>\n",
       "      <th>218676</th>\n",
       "      <td>Queen Anne</td>\n",
       "      <td>Queen Anne Terrace</td>\n",
       "      <td>QAT Entry 2</td>\n",
       "      <td>1</td>\n",
       "      <td>0</td>\n",
       "      <td>0</td>\n",
       "      <td>31/12/2018 22:50</td>\n",
       "    </tr>\n",
       "    <tr>\n",
       "      <th>218677</th>\n",
       "      <td>Queen Anne</td>\n",
       "      <td>Queen Anne Terrace</td>\n",
       "      <td>QAT Exit 1</td>\n",
       "      <td>0</td>\n",
       "      <td>1</td>\n",
       "      <td>168</td>\n",
       "      <td>31/12/2018 23:16</td>\n",
       "    </tr>\n",
       "    <tr>\n",
       "      <th>218678</th>\n",
       "      <td>Queen Anne</td>\n",
       "      <td>Queen Anne Terrace</td>\n",
       "      <td>QAT Entry 2</td>\n",
       "      <td>1</td>\n",
       "      <td>0</td>\n",
       "      <td>0</td>\n",
       "      <td>31/12/2018 23:46</td>\n",
       "    </tr>\n",
       "  </tbody>\n",
       "</table>\n",
       "<p>218679 rows × 7 columns</p>\n",
       "</div>"
      ],
      "text/plain": [
       "          Facility             Carpark       Device  Entries  Exits  \\\n",
       "0       Queen Anne  Queen Anne Terrace  QAT Entry 2        1      0   \n",
       "1       Queen Anne  Queen Anne Terrace  QAT Entry 1        1      0   \n",
       "2       Queen Anne  Queen Anne Terrace  QAT Entry 2        1      0   \n",
       "3       Queen Anne  Queen Anne Terrace  QAT Entry 1        1      0   \n",
       "4       Queen Anne  Queen Anne Terrace  QAT Entry 1        1      0   \n",
       "...            ...                 ...          ...      ...    ...   \n",
       "218674  Queen Anne  Queen Anne Terrace   QAT Exit 1        0      1   \n",
       "218675  Queen Anne  Queen Anne Terrace   QAT Exit 1        0      1   \n",
       "218676  Queen Anne  Queen Anne Terrace  QAT Entry 2        1      0   \n",
       "218677  Queen Anne  Queen Anne Terrace   QAT Exit 1        0      1   \n",
       "218678  Queen Anne  Queen Anne Terrace  QAT Entry 2        1      0   \n",
       "\n",
       "       Parking Duration              Time  \n",
       "0                     0  01/10/2018 06:06  \n",
       "1                     0  01/10/2018 06:31  \n",
       "2                   523  01/10/2018 06:31  \n",
       "3                     0  01/10/2018 06:37  \n",
       "4                     0  01/10/2018 06:48  \n",
       "...                 ...               ...  \n",
       "218674              138  31/12/2018 22:43  \n",
       "218675              219  31/12/2018 22:50  \n",
       "218676                0  31/12/2018 22:50  \n",
       "218677              168  31/12/2018 23:16  \n",
       "218678                0  31/12/2018 23:46  \n",
       "\n",
       "[218679 rows x 7 columns]"
      ]
     },
     "execution_count": 12,
     "metadata": {},
     "output_type": "execute_result"
    }
   ],
   "source": [
    "# data queen \n",
    "import pandas as pd\n",
    "\n",
    "dataset2 = pd.read_csv(\"queen.csv\")\n",
    "dataset2.drop(columns=[\"Unnamed: 7\"])"
   ]
  },
  {
   "cell_type": "code",
   "execution_count": 13,
   "metadata": {},
   "outputs": [
    {
     "name": "stderr",
     "output_type": "stream",
     "text": [
      "<ipython-input-13-74098ccd9822>:3: SettingWithCopyWarning: \n",
      "A value is trying to be set on a copy of a slice from a DataFrame\n",
      "\n",
      "See the caveats in the documentation: https://pandas.pydata.org/pandas-docs/stable/user_guide/indexing.html#returning-a-view-versus-a-copy\n",
      "  dataset2[\"Parking Duration\"][i] = dataset2[\"Parking Duration\"][i].replace(\",\", \"\")\n"
     ]
    }
   ],
   "source": [
    "for i in range(len(dataset2[\"Parking Duration\"])):\n",
    "    if \",\" in dataset2[\"Parking Duration\"][i]:\n",
    "        dataset2[\"Parking Duration\"][i] = dataset2[\"Parking Duration\"][i].replace(\",\", \"\")"
   ]
  },
  {
   "cell_type": "code",
   "execution_count": 14,
   "metadata": {},
   "outputs": [],
   "source": [
    "dataset2[\"Parking Duration\"] = dataset2[\"Parking Duration\"].astype(float)\n",
    "dataset2_filtered = dataset2[dataset2['Parking Duration'] > 0]"
   ]
  },
  {
   "cell_type": "code",
   "execution_count": 15,
   "metadata": {},
   "outputs": [
    {
     "name": "stderr",
     "output_type": "stream",
     "text": [
      "c:\\users\\darre\\appdata\\local\\programs\\python\\python38\\lib\\site-packages\\seaborn\\distributions.py:2557: FutureWarning: `distplot` is a deprecated function and will be removed in a future version. Please adapt your code to use either `displot` (a figure-level function with similar flexibility) or `histplot` (an axes-level function for histograms).\n",
      "  warnings.warn(msg, FutureWarning)\n"
     ]
    },
    {
     "data": {
      "image/png": "[encoded data removed]",
      "text/plain": [
       "<Figure size 792x288 with 1 Axes>"
      ]
     },
     "metadata": {},
     "output_type": "display_data"
    }
   ],
   "source": [
    "import seaborn as sns\n",
    "import matplotlib.pyplot as plt\n",
    "\n",
    "plt.rcParams['figure.figsize'] = (11, 4)\n",
    "plt.style.use('fivethirtyeight')\n",
    "\n",
    "plt.xticks(rotation=30)\n",
    "sns.distplot(dataset2_filtered['Parking Duration'])\n",
    "plt.title('Distribution of Parking Duration')\n",
    "plt.show()"
   ]
  },
  {
   "cell_type": "code",
   "execution_count": 16,
   "metadata": {},
   "outputs": [
    {
     "data": {
      "image/png": "[encoded data removed]",
      "text/plain": [
       "<Figure size 576x432 with 1 Axes>"
      ]
     },
     "metadata": {},
     "output_type": "display_data"
    }
   ],
   "source": [
    "import seaborn as sns\n",
    "import matplotlib.pyplot as plt\n",
    "\n",
    "plt.rcParams['figure.figsize'] = (8, 6)\n",
    "plt.boxplot(dataset2_filtered[\"Parking Duration\"])\n",
    "plt.show()"
   ]
  },
  {
   "cell_type": "code",
   "execution_count": 17,
   "metadata": {},
   "outputs": [
    {
     "name": "stdout",
     "output_type": "stream",
     "text": [
      "rata-rata sampel Queen Anne's: 189.8537512219862\n",
      "standar deviasi sampel Queen Anne's: 178.9229062042579\n"
     ]
    }
   ],
   "source": [
    "queen_mean = dataset2_filtered[\"Parking Duration\"].mean()\n",
    "queen_std = dataset2_filtered[\"Parking Duration\"].std()\n",
    "\n",
    "print(f\"rata-rata sampel Queen Anne's: {queen_mean}\")\n",
    "print(f\"standar deviasi sampel Queen Anne's: {queen_std}\")"
   ]
  },
  {
   "cell_type": "code",
   "execution_count": 18,
   "metadata": {},
   "outputs": [
    {
     "name": "stdout",
     "output_type": "stream",
     "text": [
      "Batas selang tingkat kepercayaan adalah 188.90299271164332 < rataan_sampel < 190.80450973232905\n"
     ]
    }
   ],
   "source": [
    "import numpy as np\n",
    "from scipy.stats import t\n",
    "import math\n",
    "\n",
    "num_sample = dataset2_filtered[\"Parking Duration\"].size\n",
    "\n",
    "dof = num_sample - 1\n",
    "\n",
    "p = 0.975\n",
    "\n",
    "t_value = t.ppf(p, dof)\n",
    "\n",
    "margin_of_error = t_value * queen_std / math.sqrt(num_sample)\n",
    "\n",
    "print('Batas selang tingkat kepercayaan adalah', \n",
    "      queen_mean - margin_of_error, '< rataan_sampel <', queen_mean + margin_of_error)"
   ]
  },
  {
   "cell_type": "code",
   "execution_count": 19,
   "metadata": {},
   "outputs": [
    {
     "name": "stdout",
     "output_type": "stream",
     "text": [
      "Batas selang tingkat kepercayaan lokasi Queen Annes adalah 188.90300117016068 < rataan_sampel < 190.8045012738117\n"
     ]
    }
   ],
   "source": [
    "np.random.seed(10)\n",
    "\n",
    "z_score = stats.norm.ppf(p)\n",
    "\n",
    "margin_of_error = z_score * queen_std / math.sqrt(num_sample)\n",
    "\n",
    "print('Batas selang tingkat kepercayaan lokasi Queen Annes adalah', \n",
    "      queen_mean - margin_of_error, '< rataan_sampel <', queen_mean + margin_of_error)"
   ]
  },
  {
   "cell_type": "markdown",
   "metadata": {},
   "source": [
    "<h1> 3. PARK STREET </h1>"
   ]
  },
  {
   "cell_type": "code",
   "execution_count": 20,
   "metadata": {},
   "outputs": [
    {
     "data": {
      "text/html": [
       "<div>\n",
       "<style scoped>\n",
       "    .dataframe tbody tr th:only-of-type {\n",
       "        vertical-align: middle;\n",
       "    }\n",
       "\n",
       "    .dataframe tbody tr th {\n",
       "        vertical-align: top;\n",
       "    }\n",
       "\n",
       "    .dataframe thead th {\n",
       "        text-align: right;\n",
       "    }\n",
       "</style>\n",
       "<table border=\"1\" class=\"dataframe\">\n",
       "  <thead>\n",
       "    <tr style=\"text-align: right;\">\n",
       "      <th></th>\n",
       "      <th>Facility</th>\n",
       "      <th>Carpark</th>\n",
       "      <th>Device</th>\n",
       "      <th>Entries</th>\n",
       "      <th>Exits</th>\n",
       "      <th>Parking Duration</th>\n",
       "      <th>Time</th>\n",
       "      <th>Unnamed: 7</th>\n",
       "    </tr>\n",
       "  </thead>\n",
       "  <tbody>\n",
       "    <tr>\n",
       "      <th>0</th>\n",
       "      <td>ParkStreet</td>\n",
       "      <td>Park Street</td>\n",
       "      <td>Park St EX2</td>\n",
       "      <td>0</td>\n",
       "      <td>1</td>\n",
       "      <td>297</td>\n",
       "      <td>01/10/2018 03:30</td>\n",
       "      <td>NaN</td>\n",
       "    </tr>\n",
       "    <tr>\n",
       "      <th>1</th>\n",
       "      <td>ParkStreet</td>\n",
       "      <td>Park Street</td>\n",
       "      <td>Park St EX2</td>\n",
       "      <td>0</td>\n",
       "      <td>1</td>\n",
       "      <td>547</td>\n",
       "      <td>01/10/2018 04:38</td>\n",
       "      <td>NaN</td>\n",
       "    </tr>\n",
       "    <tr>\n",
       "      <th>2</th>\n",
       "      <td>ParkStreet</td>\n",
       "      <td>Park Street</td>\n",
       "      <td>Park St EN1A</td>\n",
       "      <td>1</td>\n",
       "      <td>0</td>\n",
       "      <td>6</td>\n",
       "      <td>01/10/2018 05:45</td>\n",
       "      <td>NaN</td>\n",
       "    </tr>\n",
       "    <tr>\n",
       "      <th>3</th>\n",
       "      <td>ParkStreet</td>\n",
       "      <td>Park Street</td>\n",
       "      <td>Park St EX2</td>\n",
       "      <td>0</td>\n",
       "      <td>1</td>\n",
       "      <td>6</td>\n",
       "      <td>01/10/2018 05:50</td>\n",
       "      <td>NaN</td>\n",
       "    </tr>\n",
       "    <tr>\n",
       "      <th>4</th>\n",
       "      <td>ParkStreet</td>\n",
       "      <td>Park Street</td>\n",
       "      <td>Park St EN1B</td>\n",
       "      <td>1</td>\n",
       "      <td>0</td>\n",
       "      <td>278</td>\n",
       "      <td>01/10/2018 07:52</td>\n",
       "      <td>NaN</td>\n",
       "    </tr>\n",
       "    <tr>\n",
       "      <th>...</th>\n",
       "      <td>...</td>\n",
       "      <td>...</td>\n",
       "      <td>...</td>\n",
       "      <td>...</td>\n",
       "      <td>...</td>\n",
       "      <td>...</td>\n",
       "      <td>...</td>\n",
       "      <td>...</td>\n",
       "    </tr>\n",
       "    <tr>\n",
       "      <th>236750</th>\n",
       "      <td>ParkStreet</td>\n",
       "      <td>Park Street</td>\n",
       "      <td>Park St EX2</td>\n",
       "      <td>0</td>\n",
       "      <td>1</td>\n",
       "      <td>360</td>\n",
       "      <td>31/12/2018 23:18</td>\n",
       "      <td>NaN</td>\n",
       "    </tr>\n",
       "    <tr>\n",
       "      <th>236751</th>\n",
       "      <td>ParkStreet</td>\n",
       "      <td>Park Street</td>\n",
       "      <td>Park St EX2</td>\n",
       "      <td>0</td>\n",
       "      <td>1</td>\n",
       "      <td>61</td>\n",
       "      <td>31/12/2018 23:30</td>\n",
       "      <td>NaN</td>\n",
       "    </tr>\n",
       "    <tr>\n",
       "      <th>236752</th>\n",
       "      <td>ParkStreet</td>\n",
       "      <td>Park Street</td>\n",
       "      <td>Park St EX2</td>\n",
       "      <td>0</td>\n",
       "      <td>1</td>\n",
       "      <td>185</td>\n",
       "      <td>31/12/2018 23:30</td>\n",
       "      <td>NaN</td>\n",
       "    </tr>\n",
       "    <tr>\n",
       "      <th>236753</th>\n",
       "      <td>ParkStreet</td>\n",
       "      <td>Park Street</td>\n",
       "      <td>Park St EX1</td>\n",
       "      <td>0</td>\n",
       "      <td>1</td>\n",
       "      <td>249</td>\n",
       "      <td>31/12/2018 23:33</td>\n",
       "      <td>NaN</td>\n",
       "    </tr>\n",
       "    <tr>\n",
       "      <th>236754</th>\n",
       "      <td>ParkStreet</td>\n",
       "      <td>Park Street</td>\n",
       "      <td>Park St EN1A</td>\n",
       "      <td>1</td>\n",
       "      <td>0</td>\n",
       "      <td>0</td>\n",
       "      <td>31/12/2018 23:48</td>\n",
       "      <td>NaN</td>\n",
       "    </tr>\n",
       "  </tbody>\n",
       "</table>\n",
       "<p>236755 rows × 8 columns</p>\n",
       "</div>"
      ],
      "text/plain": [
       "          Facility      Carpark        Device  Entries  Exits  \\\n",
       "0       ParkStreet  Park Street   Park St EX2        0      1   \n",
       "1       ParkStreet  Park Street   Park St EX2        0      1   \n",
       "2       ParkStreet  Park Street  Park St EN1A        1      0   \n",
       "3       ParkStreet  Park Street   Park St EX2        0      1   \n",
       "4       ParkStreet  Park Street  Park St EN1B        1      0   \n",
       "...            ...          ...           ...      ...    ...   \n",
       "236750  ParkStreet  Park Street   Park St EX2        0      1   \n",
       "236751  ParkStreet  Park Street   Park St EX2        0      1   \n",
       "236752  ParkStreet  Park Street   Park St EX2        0      1   \n",
       "236753  ParkStreet  Park Street   Park St EX1        0      1   \n",
       "236754  ParkStreet  Park Street  Park St EN1A        1      0   \n",
       "\n",
       "       Parking Duration              Time  Unnamed: 7  \n",
       "0                   297  01/10/2018 03:30         NaN  \n",
       "1                   547  01/10/2018 04:38         NaN  \n",
       "2                     6  01/10/2018 05:45         NaN  \n",
       "3                     6  01/10/2018 05:50         NaN  \n",
       "4                   278  01/10/2018 07:52         NaN  \n",
       "...                 ...               ...         ...  \n",
       "236750              360  31/12/2018 23:18         NaN  \n",
       "236751               61  31/12/2018 23:30         NaN  \n",
       "236752              185  31/12/2018 23:30         NaN  \n",
       "236753              249  31/12/2018 23:33         NaN  \n",
       "236754                0  31/12/2018 23:48         NaN  \n",
       "\n",
       "[236755 rows x 8 columns]"
      ]
     },
     "execution_count": 20,
     "metadata": {},
     "output_type": "execute_result"
    }
   ],
   "source": [
    "import pandas as pd\n",
    "\n",
    "dataset3 = pd.read_csv('park.csv')\n",
    "dataset3.drop(columns=[\"Unnamed: 7\"])\n",
    "dataset3"
   ]
  },
  {
   "cell_type": "code",
   "execution_count": 21,
   "metadata": {},
   "outputs": [
    {
     "name": "stdout",
     "output_type": "stream",
     "text": [
      "<class 'pandas.core.frame.DataFrame'>\n",
      "RangeIndex: 236755 entries, 0 to 236754\n",
      "Data columns (total 8 columns):\n",
      " #   Column            Non-Null Count   Dtype  \n",
      "---  ------            --------------   -----  \n",
      " 0   Facility          236755 non-null  object \n",
      " 1   Carpark           236755 non-null  object \n",
      " 2   Device            236755 non-null  object \n",
      " 3   Entries           236755 non-null  int64  \n",
      " 4   Exits             236755 non-null  int64  \n",
      " 5   Parking Duration  236755 non-null  object \n",
      " 6   Time              236755 non-null  object \n",
      " 7   Unnamed: 7        0 non-null       float64\n",
      "dtypes: float64(1), int64(2), object(5)\n",
      "memory usage: 14.5+ MB\n"
     ]
    }
   ],
   "source": [
    "dataset3.info()"
   ]
  },
  {
   "cell_type": "code",
   "execution_count": 22,
   "metadata": {},
   "outputs": [
    {
     "name": "stderr",
     "output_type": "stream",
     "text": [
      "<ipython-input-22-921b25a08a83>:3: SettingWithCopyWarning: \n",
      "A value is trying to be set on a copy of a slice from a DataFrame\n",
      "\n",
      "See the caveats in the documentation: https://pandas.pydata.org/pandas-docs/stable/user_guide/indexing.html#returning-a-view-versus-a-copy\n",
      "  dataset3[\"Parking Duration\"][i] = dataset3[\"Parking Duration\"][i].replace(\",\",\"\")\n"
     ]
    }
   ],
   "source": [
    "for i in range(len(dataset3[\"Parking Duration\"])):\n",
    "    if \",\" in dataset3[\"Parking Duration\"][i]:\n",
    "        dataset3[\"Parking Duration\"][i] = dataset3[\"Parking Duration\"][i].replace(\",\",\"\")"
   ]
  },
  {
   "cell_type": "code",
   "execution_count": 23,
   "metadata": {},
   "outputs": [
    {
     "name": "stdout",
     "output_type": "stream",
     "text": [
      "<class 'pandas.core.frame.DataFrame'>\n",
      "RangeIndex: 236755 entries, 0 to 236754\n",
      "Data columns (total 8 columns):\n",
      " #   Column            Non-Null Count   Dtype  \n",
      "---  ------            --------------   -----  \n",
      " 0   Facility          236755 non-null  object \n",
      " 1   Carpark           236755 non-null  object \n",
      " 2   Device            236755 non-null  object \n",
      " 3   Entries           236755 non-null  int64  \n",
      " 4   Exits             236755 non-null  int64  \n",
      " 5   Parking Duration  236755 non-null  float64\n",
      " 6   Time              236755 non-null  object \n",
      " 7   Unnamed: 7        0 non-null       float64\n",
      "dtypes: float64(2), int64(2), object(4)\n",
      "memory usage: 14.5+ MB\n"
     ]
    }
   ],
   "source": [
    "dataset3['Parking Duration'] = dataset3['Parking Duration'].astype(float)\n",
    "dataset3.info()"
   ]
  },
  {
   "cell_type": "code",
   "execution_count": 24,
   "metadata": {},
   "outputs": [],
   "source": [
    "dataset3_filtered = dataset3[dataset3['Parking Duration'] > 0]"
   ]
  },
  {
   "cell_type": "code",
   "execution_count": 25,
   "metadata": {},
   "outputs": [
    {
     "name": "stderr",
     "output_type": "stream",
     "text": [
      "c:\\users\\darre\\appdata\\local\\programs\\python\\python38\\lib\\site-packages\\seaborn\\distributions.py:2557: FutureWarning: `distplot` is a deprecated function and will be removed in a future version. Please adapt your code to use either `displot` (a figure-level function with similar flexibility) or `histplot` (an axes-level function for histograms).\n",
      "  warnings.warn(msg, FutureWarning)\n"
     ]
    },
    {
     "data": {
      "image/png": "[encoded data removed]",
      "text/plain": [
       "<Figure size 792x288 with 1 Axes>"
      ]
     },
     "metadata": {},
     "output_type": "display_data"
    }
   ],
   "source": [
    "import seaborn as sns\n",
    "import matplotlib.pyplot as plt\n",
    "\n",
    "plt.rcParams['figure.figsize'] = (11, 4)\n",
    "plt.style.use('fivethirtyeight')\n",
    "\n",
    "plt.xticks(rotation=30)\n",
    "sns.distplot(dataset3_filtered['Parking Duration'])\n",
    "plt.title('Distribution of Parking Duration')\n",
    "plt.show()"
   ]
  },
  {
   "cell_type": "code",
   "execution_count": 26,
   "metadata": {},
   "outputs": [
    {
     "data": {
      "image/png": "[encoded data removed]",
      "text/plain": [
       "<Figure size 576x432 with 1 Axes>"
      ]
     },
     "metadata": {},
     "output_type": "display_data"
    }
   ],
   "source": [
    "plt.rcParams['figure.figsize'] = (8, 6)\n",
    "plt.boxplot(dataset3_filtered[\"Parking Duration\"])\n",
    "plt.show()"
   ]
  },
  {
   "cell_type": "code",
   "execution_count": 27,
   "metadata": {},
   "outputs": [
    {
     "name": "stdout",
     "output_type": "stream",
     "text": [
      "rata-rata sampel Park Street: 161.98446375412342\n",
      "standar deviasi sampel Park Street: 305.039091230532\n"
     ]
    }
   ],
   "source": [
    "park_mean = dataset3_filtered[\"Parking Duration\"].mean()\n",
    "park_std = dataset3_filtered[\"Parking Duration\"].std()\n",
    "\n",
    "print(f\"rata-rata sampel Park Street: {park_mean}\")\n",
    "print(f\"standar deviasi sampel Park Street: {park_std}\")"
   ]
  },
  {
   "cell_type": "code",
   "execution_count": 28,
   "metadata": {},
   "outputs": [
    {
     "name": "stdout",
     "output_type": "stream",
     "text": [
      "Batas selang tingkat kepercayaan lokasi Park Street adalah 160.28860481590957 < rataan_sampel < 163.68032269233728\n"
     ]
    }
   ],
   "source": [
    "import numpy as np\n",
    "from scipy.stats import t\n",
    "import math\n",
    "\n",
    "num_sample = dataset3_filtered[\"Parking Duration\"].size\n",
    "\n",
    "dof = num_sample - 1\n",
    "\n",
    "p = 0.975\n",
    "\n",
    "t_value = t.ppf(p, dof)\n",
    "\n",
    "margin_of_error = t_value * park_std / math.sqrt(num_sample)\n",
    "\n",
    "print('Batas selang tingkat kepercayaan lokasi Park Street adalah', \n",
    "      park_mean - margin_of_error, '< rataan_sampel <', park_mean + margin_of_error)"
   ]
  },
  {
   "cell_type": "code",
   "execution_count": 29,
   "metadata": {},
   "outputs": [
    {
     "name": "stdout",
     "output_type": "stream",
     "text": [
      "Batas selang tingkat kepercayaan lokasi Park Street adalah 160.28862133070544 < rataan_sampel < 163.6803061775414\n"
     ]
    }
   ],
   "source": [
    "np.random.seed(10)\n",
    "\n",
    "z_score = stats.norm.ppf(p)\n",
    "\n",
    "margin_of_error = z_score * park_std / math.sqrt(num_sample)\n",
    "\n",
    "print('Batas selang tingkat kepercayaan lokasi Park Street adalah', \n",
    "      park_mean - margin_of_error, '< rataan_sampel <', park_mean + margin_of_error)"
   ]
  },
  {
   "cell_type": "markdown",
   "metadata": {},
   "source": [
    "<h1>Perhitungan persentase mobil bermasalah (soal diskusi 2b)</h1>"
   ]
  },
  {
   "cell_type": "code",
   "execution_count": 30,
   "metadata": {},
   "outputs": [
    {
     "data": {
      "text/plain": [
       "(0.30882761173313594, 4.158795728009761, 1.4401802236704482)"
      ]
     },
     "execution_count": 30,
     "metadata": {},
     "output_type": "execute_result"
    }
   ],
   "source": [
    "# Dalam kasus ini, mobil tergolong \"bermasalah\" jika dan hanya jika durasi parkir lebih dari 8 jam atau 480 menit.\n",
    "\n",
    "# Grafton West\n",
    "x = dataset1_filtered\n",
    "problem_data = x[x['Parking Duration'] > 480]\n",
    "# Persentase mobil bermasalah\n",
    "percentage_1 = (problem_data['Parking Duration'].size/x['Parking Duration'].size)*100\n",
    "\n",
    "# Queen Anne's Terrace\n",
    "x2 = dataset2_filtered\n",
    "problem_data2 = x2[x2['Parking Duration'] > 480]\n",
    "# Persentase mobil bermasalah\n",
    "percentage_2 = (problem_data2['Parking Duration'].size/x2['Parking Duration'].size)*100\n",
    "\n",
    "# Park Street\n",
    "x3 = dataset3_filtered\n",
    "problem_data3 = x3[x3['Parking Duration'] > 480]\n",
    "# Persentase mobil bermasalah\n",
    "percentage_3 = (problem_data3['Parking Duration'].size/x3['Parking Duration'].size)*100\n",
    "\n",
    "\n",
    "percentage_1, percentage_2, percentage_3"
   ]
  },
  {
   "cell_type": "markdown",
   "metadata": {},
   "source": [
    "**Estimasi persentase Grafton West**"
   ]
  },
  {
   "cell_type": "code",
   "execution_count": 31,
   "metadata": {},
   "outputs": [],
   "source": [
    "num_sample = dataset1[\"Parking Duration\"].size\n",
    "mean = dataset1['Parking Duration'].mean()\n",
    "std = dataset1['Parking Duration'].std()\n",
    "dof = num_sample - 1\n",
    "\n",
    "p = 0.975\n",
    "\n",
    "t_value = t.ppf(p, dof)\n",
    "\n",
    "margin_of_error = t_value * std / math.sqrt(num_sample)"
   ]
  },
  {
   "cell_type": "code",
   "execution_count": 32,
   "metadata": {},
   "outputs": [
    {
     "name": "stdout",
     "output_type": "stream",
     "text": [
      "Batas selang tingkat kepercayaan adalah 0.3066322061096842 < persentase_mobil_bermasalah < 0.31102301735658766\n"
     ]
    }
   ],
   "source": [
    "a = ((mean - margin_of_error)*percentage_1)/mean\n",
    "b = ((mean + margin_of_error)*percentage_1)/mean\n",
    "print('Batas selang tingkat kepercayaan adalah', \n",
    "      a, '< persentase_mobil_bermasalah <', b)"
   ]
  },
  {
   "cell_type": "markdown",
   "metadata": {},
   "source": [
    "**Estimasi persentase Queen Anne's Terrace**"
   ]
  },
  {
   "cell_type": "code",
   "execution_count": 33,
   "metadata": {},
   "outputs": [
    {
     "name": "stdout",
     "output_type": "stream",
     "text": [
      "Batas selang tingkat kepercayaan adalah 4.133930563447091 < persentase_mobil_bermasalah < 4.183660892572432\n"
     ]
    }
   ],
   "source": [
    "num_sample = dataset2[\"Parking Duration\"].size\n",
    "mean = dataset2['Parking Duration'].mean()\n",
    "std = dataset2['Parking Duration'].std()\n",
    "dof = num_sample - 1\n",
    "\n",
    "p = 0.975\n",
    "\n",
    "t_value = t.ppf(p, dof)\n",
    "\n",
    "margin_of_error = t_value * std / math.sqrt(num_sample)\n",
    "\n",
    "a = ((mean - margin_of_error)*percentage_2)/mean\n",
    "b = ((mean + margin_of_error)*percentage_2)/mean\n",
    "print('Batas selang tingkat kepercayaan adalah', \n",
    "      a, '< persentase_mobil_bermasalah <', b)"
   ]
  },
  {
   "cell_type": "markdown",
   "metadata": {},
   "source": [
    "**Estimasi persentase Park Street**"
   ]
  },
  {
   "cell_type": "code",
   "execution_count": 34,
   "metadata": {},
   "outputs": [
    {
     "name": "stdout",
     "output_type": "stream",
     "text": [
      "Batas selang tingkat kepercayaan adalah 1.4241245627001187 < persentase_mobil_bermasalah < 1.4562358846407777\n"
     ]
    }
   ],
   "source": [
    "num_sample = dataset3[\"Parking Duration\"].size\n",
    "mean = dataset3['Parking Duration'].mean()\n",
    "std = dataset3['Parking Duration'].std()\n",
    "dof = num_sample - 1\n",
    "\n",
    "p = 0.975\n",
    "\n",
    "t_value = t.ppf(p, dof)\n",
    "\n",
    "margin_of_error = t_value * std / math.sqrt(num_sample)\n",
    "\n",
    "a = ((mean - margin_of_error)*percentage_3)/mean\n",
    "b = ((mean + margin_of_error)*percentage_3)/mean\n",
    "print('Batas selang tingkat kepercayaan adalah', \n",
    "      a, '< persentase_mobil_bermasalah <', b)"
   ]
  },
  {
   "cell_type": "markdown",
   "metadata": {},
   "source": [
    "<h1> ________________________________________________________________________________________ </h1>"
   ]
  },
  {
   "cell_type": "markdown",
   "metadata": {},
   "source": [
    "<h1> PERTANYAAN DISKUSI NO 2C - Perhitungan Pendapatan </h1>"
   ]
  },
  {
   "cell_type": "markdown",
   "metadata": {},
   "source": [
    "<h1> GRAFTON WEST </h1>"
   ]
  },
  {
   "cell_type": "code",
   "execution_count": 35,
   "metadata": {},
   "outputs": [
    {
     "name": "stdout",
     "output_type": "stream",
     "text": [
      "Total pendapatan GRAFTON WEST: 137971.5 Poundsterling\n",
      "GBP to IDR: 2770329748.5\n"
     ]
    }
   ],
   "source": [
    "# Grafton\n",
    "dataset1_filtered # dataset yg udah difilter.\n",
    "\n",
    "grafton_money = 0\n",
    "\n",
    "list_money_grafton = []\n",
    "for i in dataset1_filtered['Parking Duration']:\n",
    "    if i == 0 :\n",
    "        list_money_grafton.append(0) # untuk masukin ke pendapatan\n",
    "    elif i !=0:\n",
    "        \n",
    "        if (math.ceil(i/60)) < 8:\n",
    "            grafton_money += math.ceil(i/60)*0.75\n",
    "            list_money_grafton.append(math.ceil(i/60)*0.75) # untuk masukin ke pendapatan databasenya\n",
    "        else :\n",
    "            list_money_grafton.append(6) # untuk masukin ke database pendapatannya\n",
    "\n",
    "total_income_grafton = sum(list_money_grafton)\n",
    "IDR_grafton = total_income_grafton * 20079\n",
    "\n",
    "print(\"Total pendapatan GRAFTON WEST:\", total_income_grafton, \"Poundsterling\")\n",
    "print(\"GBP to IDR:\", IDR_grafton)"
   ]
  },
  {
   "cell_type": "markdown",
   "metadata": {},
   "source": [
    "**PENDAPATAN GRAFTON WEST: Rp 2.769.004.535 (2.7 miliar)**"
   ]
  },
  {
   "cell_type": "code",
   "execution_count": 36,
   "metadata": {},
   "outputs": [
    {
     "data": {
      "text/html": [
       "<div>\n",
       "<style scoped>\n",
       "    .dataframe tbody tr th:only-of-type {\n",
       "        vertical-align: middle;\n",
       "    }\n",
       "\n",
       "    .dataframe tbody tr th {\n",
       "        vertical-align: top;\n",
       "    }\n",
       "\n",
       "    .dataframe thead th {\n",
       "        text-align: right;\n",
       "    }\n",
       "</style>\n",
       "<table border=\"1\" class=\"dataframe\">\n",
       "  <thead>\n",
       "    <tr style=\"text-align: right;\">\n",
       "      <th></th>\n",
       "      <th>Facility</th>\n",
       "      <th>Carpark</th>\n",
       "      <th>Device</th>\n",
       "      <th>Entries</th>\n",
       "      <th>Exits</th>\n",
       "      <th>Parking Duration</th>\n",
       "      <th>Time</th>\n",
       "      <th>Unnamed: 7</th>\n",
       "      <th>Pendapatan</th>\n",
       "    </tr>\n",
       "  </thead>\n",
       "  <tbody>\n",
       "    <tr>\n",
       "      <th>0</th>\n",
       "      <td>GraftonWest</td>\n",
       "      <td>Grafton West</td>\n",
       "      <td>GW Exit 2</td>\n",
       "      <td>0</td>\n",
       "      <td>1</td>\n",
       "      <td>362.0</td>\n",
       "      <td>01/12/2018 01:04</td>\n",
       "      <td>NaN</td>\n",
       "      <td>5.25</td>\n",
       "    </tr>\n",
       "    <tr>\n",
       "      <th>1</th>\n",
       "      <td>GraftonWest</td>\n",
       "      <td>Grafton West</td>\n",
       "      <td>GW Exit 1</td>\n",
       "      <td>0</td>\n",
       "      <td>1</td>\n",
       "      <td>245.0</td>\n",
       "      <td>01/12/2018 01:29</td>\n",
       "      <td>NaN</td>\n",
       "      <td>3.75</td>\n",
       "    </tr>\n",
       "    <tr>\n",
       "      <th>3</th>\n",
       "      <td>GraftonWest</td>\n",
       "      <td>Grafton West</td>\n",
       "      <td>GW Exit 1</td>\n",
       "      <td>0</td>\n",
       "      <td>1</td>\n",
       "      <td>17.0</td>\n",
       "      <td>01/12/2018 07:37</td>\n",
       "      <td>NaN</td>\n",
       "      <td>0.75</td>\n",
       "    </tr>\n",
       "    <tr>\n",
       "      <th>28</th>\n",
       "      <td>GraftonWest</td>\n",
       "      <td>Grafton West</td>\n",
       "      <td>GW Exit 1</td>\n",
       "      <td>0</td>\n",
       "      <td>1</td>\n",
       "      <td>45.0</td>\n",
       "      <td>01/12/2018 08:28</td>\n",
       "      <td>NaN</td>\n",
       "      <td>0.75</td>\n",
       "    </tr>\n",
       "    <tr>\n",
       "      <th>48</th>\n",
       "      <td>GraftonWest</td>\n",
       "      <td>Grafton West</td>\n",
       "      <td>GW Exit 1</td>\n",
       "      <td>0</td>\n",
       "      <td>1</td>\n",
       "      <td>47.0</td>\n",
       "      <td>01/12/2018 08:46</td>\n",
       "      <td>NaN</td>\n",
       "      <td>0.75</td>\n",
       "    </tr>\n",
       "    <tr>\n",
       "      <th>...</th>\n",
       "      <td>...</td>\n",
       "      <td>...</td>\n",
       "      <td>...</td>\n",
       "      <td>...</td>\n",
       "      <td>...</td>\n",
       "      <td>...</td>\n",
       "      <td>...</td>\n",
       "      <td>...</td>\n",
       "      <td>...</td>\n",
       "    </tr>\n",
       "    <tr>\n",
       "      <th>172588</th>\n",
       "      <td>GraftonWest</td>\n",
       "      <td>Grafton West</td>\n",
       "      <td>GW Exit 1</td>\n",
       "      <td>0</td>\n",
       "      <td>1</td>\n",
       "      <td>127.0</td>\n",
       "      <td>31/12/2018 21:24</td>\n",
       "      <td>NaN</td>\n",
       "      <td>2.25</td>\n",
       "    </tr>\n",
       "    <tr>\n",
       "      <th>172589</th>\n",
       "      <td>GraftonWest</td>\n",
       "      <td>Grafton West</td>\n",
       "      <td>GW Exit 1</td>\n",
       "      <td>0</td>\n",
       "      <td>1</td>\n",
       "      <td>190.0</td>\n",
       "      <td>31/12/2018 21:43</td>\n",
       "      <td>NaN</td>\n",
       "      <td>3.00</td>\n",
       "    </tr>\n",
       "    <tr>\n",
       "      <th>172590</th>\n",
       "      <td>GraftonWest</td>\n",
       "      <td>Grafton West</td>\n",
       "      <td>GW Exit 1</td>\n",
       "      <td>0</td>\n",
       "      <td>1</td>\n",
       "      <td>288.0</td>\n",
       "      <td>31/12/2018 22:46</td>\n",
       "      <td>NaN</td>\n",
       "      <td>3.75</td>\n",
       "    </tr>\n",
       "    <tr>\n",
       "      <th>172591</th>\n",
       "      <td>GraftonWest</td>\n",
       "      <td>Grafton West</td>\n",
       "      <td>GW Exit 1</td>\n",
       "      <td>0</td>\n",
       "      <td>1</td>\n",
       "      <td>158.0</td>\n",
       "      <td>31/12/2018 22:59</td>\n",
       "      <td>NaN</td>\n",
       "      <td>2.25</td>\n",
       "    </tr>\n",
       "    <tr>\n",
       "      <th>172592</th>\n",
       "      <td>GraftonWest</td>\n",
       "      <td>Grafton West</td>\n",
       "      <td>GW Exit 1</td>\n",
       "      <td>0</td>\n",
       "      <td>1</td>\n",
       "      <td>219.0</td>\n",
       "      <td>31/12/2018 23:32</td>\n",
       "      <td>NaN</td>\n",
       "      <td>3.00</td>\n",
       "    </tr>\n",
       "  </tbody>\n",
       "</table>\n",
       "<p>86456 rows × 9 columns</p>\n",
       "</div>"
      ],
      "text/plain": [
       "           Facility       Carpark     Device  Entries  Exits  \\\n",
       "0       GraftonWest  Grafton West  GW Exit 2        0      1   \n",
       "1       GraftonWest  Grafton West  GW Exit 1        0      1   \n",
       "3       GraftonWest  Grafton West  GW Exit 1        0      1   \n",
       "28      GraftonWest  Grafton West  GW Exit 1        0      1   \n",
       "48      GraftonWest  Grafton West  GW Exit 1        0      1   \n",
       "...             ...           ...        ...      ...    ...   \n",
       "172588  GraftonWest  Grafton West  GW Exit 1        0      1   \n",
       "172589  GraftonWest  Grafton West  GW Exit 1        0      1   \n",
       "172590  GraftonWest  Grafton West  GW Exit 1        0      1   \n",
       "172591  GraftonWest  Grafton West  GW Exit 1        0      1   \n",
       "172592  GraftonWest  Grafton West  GW Exit 1        0      1   \n",
       "\n",
       "        Parking Duration              Time  Unnamed: 7  Pendapatan  \n",
       "0                  362.0  01/12/2018 01:04         NaN        5.25  \n",
       "1                  245.0  01/12/2018 01:29         NaN        3.75  \n",
       "3                   17.0  01/12/2018 07:37         NaN        0.75  \n",
       "28                  45.0  01/12/2018 08:28         NaN        0.75  \n",
       "48                  47.0  01/12/2018 08:46         NaN        0.75  \n",
       "...                  ...               ...         ...         ...  \n",
       "172588             127.0  31/12/2018 21:24         NaN        2.25  \n",
       "172589             190.0  31/12/2018 21:43         NaN        3.00  \n",
       "172590             288.0  31/12/2018 22:46         NaN        3.75  \n",
       "172591             158.0  31/12/2018 22:59         NaN        2.25  \n",
       "172592             219.0  31/12/2018 23:32         NaN        3.00  \n",
       "\n",
       "[86456 rows x 9 columns]"
      ]
     },
     "execution_count": 36,
     "metadata": {},
     "output_type": "execute_result"
    }
   ],
   "source": [
    "import pandas as pd\n",
    "\n",
    "df = pd.DataFrame(dataset1_filtered)\n",
    "\n",
    "df['Pendapatan'] = list_money_grafton\n",
    "\n",
    "df"
   ]
  },
  {
   "cell_type": "code",
   "execution_count": 37,
   "metadata": {},
   "outputs": [
    {
     "name": "stderr",
     "output_type": "stream",
     "text": [
      "c:\\users\\darre\\appdata\\local\\programs\\python\\python38\\lib\\site-packages\\seaborn\\distributions.py:2557: FutureWarning: `distplot` is a deprecated function and will be removed in a future version. Please adapt your code to use either `displot` (a figure-level function with similar flexibility) or `histplot` (an axes-level function for histograms).\n",
      "  warnings.warn(msg, FutureWarning)\n"
     ]
    },
    {
     "data": {
      "image/png": "[encoded data removed]",
      "text/plain": [
       "<Figure size 792x288 with 1 Axes>"
      ]
     },
     "metadata": {},
     "output_type": "display_data"
    }
   ],
   "source": [
    "plt.rcParams['figure.figsize'] = (11, 4)\n",
    "plt.style.use('fivethirtyeight')\n",
    "\n",
    "plt.xticks(rotation=30)\n",
    "sns.distplot(df['Pendapatan'])\n",
    "plt.title('Distribution of Income')\n",
    "plt.show()"
   ]
  },
  {
   "cell_type": "code",
   "execution_count": 38,
   "metadata": {},
   "outputs": [
    {
     "name": "stdout",
     "output_type": "stream",
     "text": [
      "Batas selang tingkat kepercayaan adalah 1.5899846550840724 < rataan_sampel < 1.6017313623120597\n",
      "Standar deviasi pendapatan: 0.881108816848168\n"
     ]
    }
   ],
   "source": [
    "grafton_mean_fil2 = dataset1_filtered[\"Pendapatan\"].mean()\n",
    "grafton_std_fil2 = dataset1_filtered[\"Pendapatan\"].std()\n",
    "\n",
    "import numpy as np\n",
    "from scipy.stats import t\n",
    "import math\n",
    "\n",
    "num_sample = dataset1_filtered[\"Pendapatan\"].size\n",
    "\n",
    "dof = num_sample - 1\n",
    "\n",
    "p = 0.975\n",
    "\n",
    "t_value = t.ppf(p, dof)\n",
    "\n",
    "margin_of_error = t_value * grafton_std_fil2 / math.sqrt(num_sample)\n",
    "\n",
    "print('Batas selang tingkat kepercayaan adalah', \n",
    "      grafton_mean_fil2 - margin_of_error, '< rataan_sampel <', grafton_mean_fil2 + margin_of_error)\n",
    "\n",
    "print(\"Standar deviasi pendapatan:\", grafton_std_fil2)"
   ]
  },
  {
   "cell_type": "markdown",
   "metadata": {},
   "source": [
    "<h1> ________________________________________________________________________________________ </h1>"
   ]
  },
  {
   "cell_type": "markdown",
   "metadata": {},
   "source": [
    "<h1> QUEEN ANNE'S TERRACE </h1>"
   ]
  },
  {
   "cell_type": "code",
   "execution_count": 39,
   "metadata": {},
   "outputs": [
    {
     "name": "stdout",
     "output_type": "stream",
     "text": [
      "Total pendapatan QUEEN ANNE'S TERRACE: 351504.0 Poundsterling\n",
      "GBP to IDR: 7057848816.0\n"
     ]
    }
   ],
   "source": [
    "# queen Anne's Terrace => data_queen_filtered\n",
    "# QUEEN ANNE'S TERRACE\n",
    "\n",
    "queen_money = 0\n",
    "\n",
    "list_money_queen = []\n",
    "\n",
    "for i in dataset2_filtered['Parking Duration']:\n",
    "    if i == 0 :\n",
    "        list_money_queen.append(0) # untuk masukin ke pendapatan\n",
    "    elif i !=0:\n",
    "        if math.ceil(i/60) < 8:\n",
    "            queen_money += math.ceil(i/60)*0.75\n",
    "            list_money_queen.append(math.ceil(i/60)*0.75) # untuk masukin ke pendapatan databasenya\n",
    "        else :\n",
    "            list_money_queen.append(6) # untuk masukin ke database pendapatannya\n",
    "\n",
    "total_income_queen = sum(list_money_queen)\n",
    "IDR_queen = total_income_queen * 20079\n",
    "\n",
    "print(\"Total pendapatan QUEEN ANNE'S TERRACE:\", total_income_queen, \"Poundsterling\")\n",
    "print(\"GBP to IDR:\", IDR_queen)"
   ]
  },
  {
   "cell_type": "markdown",
   "metadata": {},
   "source": [
    "**PENDAPATAN QUEEN ANNE'S TERRACE: Rp 7.056.162.180 (7 miliar)**"
   ]
  },
  {
   "cell_type": "code",
   "execution_count": 40,
   "metadata": {},
   "outputs": [
    {
     "data": {
      "text/html": [
       "<div>\n",
       "<style scoped>\n",
       "    .dataframe tbody tr th:only-of-type {\n",
       "        vertical-align: middle;\n",
       "    }\n",
       "\n",
       "    .dataframe tbody tr th {\n",
       "        vertical-align: top;\n",
       "    }\n",
       "\n",
       "    .dataframe thead th {\n",
       "        text-align: right;\n",
       "    }\n",
       "</style>\n",
       "<table border=\"1\" class=\"dataframe\">\n",
       "  <thead>\n",
       "    <tr style=\"text-align: right;\">\n",
       "      <th></th>\n",
       "      <th>Facility</th>\n",
       "      <th>Carpark</th>\n",
       "      <th>Device</th>\n",
       "      <th>Entries</th>\n",
       "      <th>Exits</th>\n",
       "      <th>Parking Duration</th>\n",
       "      <th>Time</th>\n",
       "      <th>Unnamed: 7</th>\n",
       "      <th>Pendapatan</th>\n",
       "    </tr>\n",
       "  </thead>\n",
       "  <tbody>\n",
       "    <tr>\n",
       "      <th>2</th>\n",
       "      <td>Queen Anne</td>\n",
       "      <td>Queen Anne Terrace</td>\n",
       "      <td>QAT Entry 2</td>\n",
       "      <td>1</td>\n",
       "      <td>0</td>\n",
       "      <td>523.0</td>\n",
       "      <td>01/10/2018 06:31</td>\n",
       "      <td>NaN</td>\n",
       "      <td>6.00</td>\n",
       "    </tr>\n",
       "    <tr>\n",
       "      <th>5</th>\n",
       "      <td>Queen Anne</td>\n",
       "      <td>Queen Anne Terrace</td>\n",
       "      <td>QAT Entry 2</td>\n",
       "      <td>1</td>\n",
       "      <td>0</td>\n",
       "      <td>59.0</td>\n",
       "      <td>01/10/2018 07:23</td>\n",
       "      <td>NaN</td>\n",
       "      <td>0.75</td>\n",
       "    </tr>\n",
       "    <tr>\n",
       "      <th>6</th>\n",
       "      <td>Queen Anne</td>\n",
       "      <td>Queen Anne Terrace</td>\n",
       "      <td>QAT Entry 2</td>\n",
       "      <td>1</td>\n",
       "      <td>0</td>\n",
       "      <td>699.0</td>\n",
       "      <td>01/10/2018 07:25</td>\n",
       "      <td>NaN</td>\n",
       "      <td>6.00</td>\n",
       "    </tr>\n",
       "    <tr>\n",
       "      <th>7</th>\n",
       "      <td>Queen Anne</td>\n",
       "      <td>Queen Anne Terrace</td>\n",
       "      <td>QAT Entry 2</td>\n",
       "      <td>1</td>\n",
       "      <td>0</td>\n",
       "      <td>558.0</td>\n",
       "      <td>01/10/2018 07:33</td>\n",
       "      <td>NaN</td>\n",
       "      <td>6.00</td>\n",
       "    </tr>\n",
       "    <tr>\n",
       "      <th>8</th>\n",
       "      <td>Queen Anne</td>\n",
       "      <td>Queen Anne Terrace</td>\n",
       "      <td>QAT Entry 1</td>\n",
       "      <td>1</td>\n",
       "      <td>0</td>\n",
       "      <td>578.0</td>\n",
       "      <td>01/10/2018 07:35</td>\n",
       "      <td>NaN</td>\n",
       "      <td>6.00</td>\n",
       "    </tr>\n",
       "    <tr>\n",
       "      <th>...</th>\n",
       "      <td>...</td>\n",
       "      <td>...</td>\n",
       "      <td>...</td>\n",
       "      <td>...</td>\n",
       "      <td>...</td>\n",
       "      <td>...</td>\n",
       "      <td>...</td>\n",
       "      <td>...</td>\n",
       "      <td>...</td>\n",
       "    </tr>\n",
       "    <tr>\n",
       "      <th>218672</th>\n",
       "      <td>Queen Anne</td>\n",
       "      <td>Queen Anne Terrace</td>\n",
       "      <td>QAT Exit 2</td>\n",
       "      <td>0</td>\n",
       "      <td>1</td>\n",
       "      <td>210.0</td>\n",
       "      <td>31/12/2018 22:35</td>\n",
       "      <td>NaN</td>\n",
       "      <td>3.00</td>\n",
       "    </tr>\n",
       "    <tr>\n",
       "      <th>218673</th>\n",
       "      <td>Queen Anne</td>\n",
       "      <td>Queen Anne Terrace</td>\n",
       "      <td>QAT Exit 1</td>\n",
       "      <td>0</td>\n",
       "      <td>1</td>\n",
       "      <td>137.0</td>\n",
       "      <td>31/12/2018 22:42</td>\n",
       "      <td>NaN</td>\n",
       "      <td>2.25</td>\n",
       "    </tr>\n",
       "    <tr>\n",
       "      <th>218674</th>\n",
       "      <td>Queen Anne</td>\n",
       "      <td>Queen Anne Terrace</td>\n",
       "      <td>QAT Exit 1</td>\n",
       "      <td>0</td>\n",
       "      <td>1</td>\n",
       "      <td>138.0</td>\n",
       "      <td>31/12/2018 22:43</td>\n",
       "      <td>NaN</td>\n",
       "      <td>2.25</td>\n",
       "    </tr>\n",
       "    <tr>\n",
       "      <th>218675</th>\n",
       "      <td>Queen Anne</td>\n",
       "      <td>Queen Anne Terrace</td>\n",
       "      <td>QAT Exit 1</td>\n",
       "      <td>0</td>\n",
       "      <td>1</td>\n",
       "      <td>219.0</td>\n",
       "      <td>31/12/2018 22:50</td>\n",
       "      <td>NaN</td>\n",
       "      <td>3.00</td>\n",
       "    </tr>\n",
       "    <tr>\n",
       "      <th>218677</th>\n",
       "      <td>Queen Anne</td>\n",
       "      <td>Queen Anne Terrace</td>\n",
       "      <td>QAT Exit 1</td>\n",
       "      <td>0</td>\n",
       "      <td>1</td>\n",
       "      <td>168.0</td>\n",
       "      <td>31/12/2018 23:16</td>\n",
       "      <td>NaN</td>\n",
       "      <td>2.25</td>\n",
       "    </tr>\n",
       "  </tbody>\n",
       "</table>\n",
       "<p>136049 rows × 9 columns</p>\n",
       "</div>"
      ],
      "text/plain": [
       "          Facility             Carpark       Device  Entries  Exits  \\\n",
       "2       Queen Anne  Queen Anne Terrace  QAT Entry 2        1      0   \n",
       "5       Queen Anne  Queen Anne Terrace  QAT Entry 2        1      0   \n",
       "6       Queen Anne  Queen Anne Terrace  QAT Entry 2        1      0   \n",
       "7       Queen Anne  Queen Anne Terrace  QAT Entry 2        1      0   \n",
       "8       Queen Anne  Queen Anne Terrace  QAT Entry 1        1      0   \n",
       "...            ...                 ...          ...      ...    ...   \n",
       "218672  Queen Anne  Queen Anne Terrace   QAT Exit 2        0      1   \n",
       "218673  Queen Anne  Queen Anne Terrace   QAT Exit 1        0      1   \n",
       "218674  Queen Anne  Queen Anne Terrace   QAT Exit 1        0      1   \n",
       "218675  Queen Anne  Queen Anne Terrace   QAT Exit 1        0      1   \n",
       "218677  Queen Anne  Queen Anne Terrace   QAT Exit 1        0      1   \n",
       "\n",
       "        Parking Duration              Time  Unnamed: 7  Pendapatan  \n",
       "2                  523.0  01/10/2018 06:31         NaN        6.00  \n",
       "5                   59.0  01/10/2018 07:23         NaN        0.75  \n",
       "6                  699.0  01/10/2018 07:25         NaN        6.00  \n",
       "7                  558.0  01/10/2018 07:33         NaN        6.00  \n",
       "8                  578.0  01/10/2018 07:35         NaN        6.00  \n",
       "...                  ...               ...         ...         ...  \n",
       "218672             210.0  31/12/2018 22:35         NaN        3.00  \n",
       "218673             137.0  31/12/2018 22:42         NaN        2.25  \n",
       "218674             138.0  31/12/2018 22:43         NaN        2.25  \n",
       "218675             219.0  31/12/2018 22:50         NaN        3.00  \n",
       "218677             168.0  31/12/2018 23:16         NaN        2.25  \n",
       "\n",
       "[136049 rows x 9 columns]"
      ]
     },
     "execution_count": 40,
     "metadata": {},
     "output_type": "execute_result"
    }
   ],
   "source": [
    "import pandas as pd\n",
    "\n",
    "df = pd.DataFrame(dataset2_filtered)\n",
    "\n",
    "df['Pendapatan'] = list_money_queen\n",
    "\n",
    "df"
   ]
  },
  {
   "cell_type": "code",
   "execution_count": 41,
   "metadata": {},
   "outputs": [
    {
     "name": "stderr",
     "output_type": "stream",
     "text": [
      "c:\\users\\darre\\appdata\\local\\programs\\python\\python38\\lib\\site-packages\\seaborn\\distributions.py:2557: FutureWarning: `distplot` is a deprecated function and will be removed in a future version. Please adapt your code to use either `displot` (a figure-level function with similar flexibility) or `histplot` (an axes-level function for histograms).\n",
      "  warnings.warn(msg, FutureWarning)\n"
     ]
    },
    {
     "data": {
      "image/png": "[encoded data removed]",
      "text/plain": [
       "<Figure size 792x288 with 1 Axes>"
      ]
     },
     "metadata": {},
     "output_type": "display_data"
    }
   ],
   "source": [
    "plt.rcParams['figure.figsize'] = (11, 4)\n",
    "plt.style.use('fivethirtyeight')\n",
    "\n",
    "plt.xticks(rotation=30)\n",
    "sns.distplot(dataset2_filtered['Pendapatan'])\n",
    "plt.title('Distribution of Income')\n",
    "plt.show()"
   ]
  },
  {
   "cell_type": "code",
   "execution_count": 42,
   "metadata": {},
   "outputs": [
    {
     "name": "stdout",
     "output_type": "stream",
     "text": [
      "Batas selang tingkat kepercayaan adalah 2.5762744402764204 < rataan_sampel < 2.591040277215072\n",
      "Standar deviasi pendapatan: 1.3893888031824932\n"
     ]
    }
   ],
   "source": [
    "queen_mean_fil2 = dataset2_filtered[\"Pendapatan\"].mean()\n",
    "queen_std_fil2 = dataset2_filtered[\"Pendapatan\"].std()\n",
    "\n",
    "import numpy as np\n",
    "from scipy.stats import t\n",
    "import math\n",
    "\n",
    "num_sample = dataset2_filtered[\"Pendapatan\"].size\n",
    "\n",
    "dof = num_sample - 1\n",
    "\n",
    "p = 0.975\n",
    "\n",
    "t_value = t.ppf(p, dof)\n",
    "\n",
    "margin_of_error = t_value * queen_std_fil2 / math.sqrt(num_sample)\n",
    "\n",
    "print('Batas selang tingkat kepercayaan adalah', \n",
    "      queen_mean_fil2 - margin_of_error, '< rataan_sampel <', queen_mean_fil2 + margin_of_error)\n",
    "\n",
    "print('Standar deviasi pendapatan:', queen_std_fil2)"
   ]
  },
  {
   "cell_type": "markdown",
   "metadata": {},
   "source": [
    "<h1> ________________________________________________________________________________________ </h1>"
   ]
  },
  {
   "cell_type": "markdown",
   "metadata": {},
   "source": [
    "<h1> PARK STREET </h1>"
   ]
  },
  {
   "cell_type": "code",
   "execution_count": 43,
   "metadata": {},
   "outputs": [
    {
     "name": "stdout",
     "output_type": "stream",
     "text": [
      "Total pendapatan PARK STREET: 278548.5 Poundsterling\n",
      "GBP to IDR: 5592975331.5\n"
     ]
    }
   ],
   "source": [
    "# Park Street\n",
    "parkstreet_money = 0\n",
    "\n",
    "list_money_parkstreet = []\n",
    "\n",
    "for i in dataset3_filtered['Parking Duration']:\n",
    "    if i == 0 :\n",
    "        list_money_parkstreet.append(0) # untuk masukin ke pendapatan\n",
    "    elif i !=0:\n",
    "        if math.ceil(i/60) < 8:\n",
    "            parkstreet_money += math.ceil(i/60)*0.75\n",
    "            list_money_parkstreet.append(math.ceil(i/60)*0.75) # untuk masukin ke pendapatan databasenya\n",
    "        else :\n",
    "            list_money_parkstreet.append(6) # untuk masukin ke database pendapatannya\n",
    "\n",
    "total_income_parkstreet = sum(list_money_parkstreet)\n",
    "IDR_parkstreet = total_income_parkstreet * 20079\n",
    "\n",
    "print(\"Total pendapatan PARK STREET:\", total_income_parkstreet, \"Poundsterling\")\n",
    "print(\"GBP to IDR:\", IDR_parkstreet)"
   ]
  },
  {
   "cell_type": "markdown",
   "metadata": {},
   "source": [
    "**PENDAPATAN PARK STREET: Rp 5.575.386.128 (5.5 miliar)**"
   ]
  },
  {
   "cell_type": "code",
   "execution_count": 44,
   "metadata": {},
   "outputs": [
    {
     "data": {
      "text/html": [
       "<div>\n",
       "<style scoped>\n",
       "    .dataframe tbody tr th:only-of-type {\n",
       "        vertical-align: middle;\n",
       "    }\n",
       "\n",
       "    .dataframe tbody tr th {\n",
       "        vertical-align: top;\n",
       "    }\n",
       "\n",
       "    .dataframe thead th {\n",
       "        text-align: right;\n",
       "    }\n",
       "</style>\n",
       "<table border=\"1\" class=\"dataframe\">\n",
       "  <thead>\n",
       "    <tr style=\"text-align: right;\">\n",
       "      <th></th>\n",
       "      <th>Facility</th>\n",
       "      <th>Carpark</th>\n",
       "      <th>Device</th>\n",
       "      <th>Entries</th>\n",
       "      <th>Exits</th>\n",
       "      <th>Parking Duration</th>\n",
       "      <th>Time</th>\n",
       "      <th>Unnamed: 7</th>\n",
       "      <th>Pendapatan</th>\n",
       "    </tr>\n",
       "  </thead>\n",
       "  <tbody>\n",
       "    <tr>\n",
       "      <th>0</th>\n",
       "      <td>ParkStreet</td>\n",
       "      <td>Park Street</td>\n",
       "      <td>Park St EX2</td>\n",
       "      <td>0</td>\n",
       "      <td>1</td>\n",
       "      <td>297.0</td>\n",
       "      <td>01/10/2018 03:30</td>\n",
       "      <td>NaN</td>\n",
       "      <td>3.75</td>\n",
       "    </tr>\n",
       "    <tr>\n",
       "      <th>1</th>\n",
       "      <td>ParkStreet</td>\n",
       "      <td>Park Street</td>\n",
       "      <td>Park St EX2</td>\n",
       "      <td>0</td>\n",
       "      <td>1</td>\n",
       "      <td>547.0</td>\n",
       "      <td>01/10/2018 04:38</td>\n",
       "      <td>NaN</td>\n",
       "      <td>6.00</td>\n",
       "    </tr>\n",
       "    <tr>\n",
       "      <th>2</th>\n",
       "      <td>ParkStreet</td>\n",
       "      <td>Park Street</td>\n",
       "      <td>Park St EN1A</td>\n",
       "      <td>1</td>\n",
       "      <td>0</td>\n",
       "      <td>6.0</td>\n",
       "      <td>01/10/2018 05:45</td>\n",
       "      <td>NaN</td>\n",
       "      <td>0.75</td>\n",
       "    </tr>\n",
       "    <tr>\n",
       "      <th>3</th>\n",
       "      <td>ParkStreet</td>\n",
       "      <td>Park Street</td>\n",
       "      <td>Park St EX2</td>\n",
       "      <td>0</td>\n",
       "      <td>1</td>\n",
       "      <td>6.0</td>\n",
       "      <td>01/10/2018 05:50</td>\n",
       "      <td>NaN</td>\n",
       "      <td>0.75</td>\n",
       "    </tr>\n",
       "    <tr>\n",
       "      <th>4</th>\n",
       "      <td>ParkStreet</td>\n",
       "      <td>Park Street</td>\n",
       "      <td>Park St EN1B</td>\n",
       "      <td>1</td>\n",
       "      <td>0</td>\n",
       "      <td>278.0</td>\n",
       "      <td>01/10/2018 07:52</td>\n",
       "      <td>NaN</td>\n",
       "      <td>3.75</td>\n",
       "    </tr>\n",
       "    <tr>\n",
       "      <th>...</th>\n",
       "      <td>...</td>\n",
       "      <td>...</td>\n",
       "      <td>...</td>\n",
       "      <td>...</td>\n",
       "      <td>...</td>\n",
       "      <td>...</td>\n",
       "      <td>...</td>\n",
       "      <td>...</td>\n",
       "      <td>...</td>\n",
       "    </tr>\n",
       "    <tr>\n",
       "      <th>236749</th>\n",
       "      <td>ParkStreet</td>\n",
       "      <td>Park Street</td>\n",
       "      <td>Park St EX1</td>\n",
       "      <td>0</td>\n",
       "      <td>1</td>\n",
       "      <td>154.0</td>\n",
       "      <td>31/12/2018 23:04</td>\n",
       "      <td>NaN</td>\n",
       "      <td>2.25</td>\n",
       "    </tr>\n",
       "    <tr>\n",
       "      <th>236750</th>\n",
       "      <td>ParkStreet</td>\n",
       "      <td>Park Street</td>\n",
       "      <td>Park St EX2</td>\n",
       "      <td>0</td>\n",
       "      <td>1</td>\n",
       "      <td>360.0</td>\n",
       "      <td>31/12/2018 23:18</td>\n",
       "      <td>NaN</td>\n",
       "      <td>4.50</td>\n",
       "    </tr>\n",
       "    <tr>\n",
       "      <th>236751</th>\n",
       "      <td>ParkStreet</td>\n",
       "      <td>Park Street</td>\n",
       "      <td>Park St EX2</td>\n",
       "      <td>0</td>\n",
       "      <td>1</td>\n",
       "      <td>61.0</td>\n",
       "      <td>31/12/2018 23:30</td>\n",
       "      <td>NaN</td>\n",
       "      <td>1.50</td>\n",
       "    </tr>\n",
       "    <tr>\n",
       "      <th>236752</th>\n",
       "      <td>ParkStreet</td>\n",
       "      <td>Park Street</td>\n",
       "      <td>Park St EX2</td>\n",
       "      <td>0</td>\n",
       "      <td>1</td>\n",
       "      <td>185.0</td>\n",
       "      <td>31/12/2018 23:30</td>\n",
       "      <td>NaN</td>\n",
       "      <td>3.00</td>\n",
       "    </tr>\n",
       "    <tr>\n",
       "      <th>236753</th>\n",
       "      <td>ParkStreet</td>\n",
       "      <td>Park Street</td>\n",
       "      <td>Park St EX1</td>\n",
       "      <td>0</td>\n",
       "      <td>1</td>\n",
       "      <td>249.0</td>\n",
       "      <td>31/12/2018 23:33</td>\n",
       "      <td>NaN</td>\n",
       "      <td>3.75</td>\n",
       "    </tr>\n",
       "  </tbody>\n",
       "</table>\n",
       "<p>124290 rows × 9 columns</p>\n",
       "</div>"
      ],
      "text/plain": [
       "          Facility      Carpark        Device  Entries  Exits  \\\n",
       "0       ParkStreet  Park Street   Park St EX2        0      1   \n",
       "1       ParkStreet  Park Street   Park St EX2        0      1   \n",
       "2       ParkStreet  Park Street  Park St EN1A        1      0   \n",
       "3       ParkStreet  Park Street   Park St EX2        0      1   \n",
       "4       ParkStreet  Park Street  Park St EN1B        1      0   \n",
       "...            ...          ...           ...      ...    ...   \n",
       "236749  ParkStreet  Park Street   Park St EX1        0      1   \n",
       "236750  ParkStreet  Park Street   Park St EX2        0      1   \n",
       "236751  ParkStreet  Park Street   Park St EX2        0      1   \n",
       "236752  ParkStreet  Park Street   Park St EX2        0      1   \n",
       "236753  ParkStreet  Park Street   Park St EX1        0      1   \n",
       "\n",
       "        Parking Duration              Time  Unnamed: 7  Pendapatan  \n",
       "0                  297.0  01/10/2018 03:30         NaN        3.75  \n",
       "1                  547.0  01/10/2018 04:38         NaN        6.00  \n",
       "2                    6.0  01/10/2018 05:45         NaN        0.75  \n",
       "3                    6.0  01/10/2018 05:50         NaN        0.75  \n",
       "4                  278.0  01/10/2018 07:52         NaN        3.75  \n",
       "...                  ...               ...         ...         ...  \n",
       "236749             154.0  31/12/2018 23:04         NaN        2.25  \n",
       "236750             360.0  31/12/2018 23:18         NaN        4.50  \n",
       "236751              61.0  31/12/2018 23:30         NaN        1.50  \n",
       "236752             185.0  31/12/2018 23:30         NaN        3.00  \n",
       "236753             249.0  31/12/2018 23:33         NaN        3.75  \n",
       "\n",
       "[124290 rows x 9 columns]"
      ]
     },
     "execution_count": 44,
     "metadata": {},
     "output_type": "execute_result"
    }
   ],
   "source": [
    "import pandas as pd\n",
    "\n",
    "df = pd.DataFrame(dataset3_filtered)\n",
    "\n",
    "df['Pendapatan'] = list_money_parkstreet\n",
    "\n",
    "df"
   ]
  },
  {
   "cell_type": "code",
   "execution_count": 45,
   "metadata": {},
   "outputs": [
    {
     "name": "stderr",
     "output_type": "stream",
     "text": [
      "c:\\users\\darre\\appdata\\local\\programs\\python\\python38\\lib\\site-packages\\seaborn\\distributions.py:2557: FutureWarning: `distplot` is a deprecated function and will be removed in a future version. Please adapt your code to use either `displot` (a figure-level function with similar flexibility) or `histplot` (an axes-level function for histograms).\n",
      "  warnings.warn(msg, FutureWarning)\n"
     ]
    },
    {
     "data": {
      "image/png": "[encoded data removed]",
      "text/plain": [
       "<Figure size 792x288 with 1 Axes>"
      ]
     },
     "metadata": {},
     "output_type": "display_data"
    }
   ],
   "source": [
    "plt.rcParams['figure.figsize'] = (11, 4)\n",
    "plt.style.use('fivethirtyeight')\n",
    "\n",
    "plt.xticks(rotation=30)\n",
    "sns.distplot(dataset3_filtered['Pendapatan'])\n",
    "plt.title('Distribution of Income')\n",
    "plt.show()"
   ]
  },
  {
   "cell_type": "code",
   "execution_count": 46,
   "metadata": {},
   "outputs": [
    {
     "name": "stdout",
     "output_type": "stream",
     "text": [
      "Batas selang tingkat kepercayaan adalah 2.2348387976908377 < rataan_sampel < 2.2473962976507025\n",
      "Standar Deviasi pendapatan: 1.1293770636132807\n"
     ]
    }
   ],
   "source": [
    "park_mean_fil2 = dataset3_filtered[\"Pendapatan\"].mean()\n",
    "park_std_fil2 = dataset3_filtered[\"Pendapatan\"].std()\n",
    "\n",
    "import numpy as np\n",
    "from scipy.stats import t\n",
    "import math\n",
    "\n",
    "num_sample = dataset3_filtered[\"Pendapatan\"].size\n",
    "\n",
    "dof = num_sample - 1\n",
    "\n",
    "p = 0.975\n",
    "\n",
    "t_value = t.ppf(p, dof)\n",
    "\n",
    "margin_of_error = t_value * park_std_fil2 / math.sqrt(num_sample)\n",
    "\n",
    "print('Batas selang tingkat kepercayaan adalah', \n",
    "      park_mean_fil2 - margin_of_error, '< rataan_sampel <', park_mean_fil2 + margin_of_error)\n",
    "\n",
    "print(\"Standar Deviasi pendapatan:\", park_std_fil2)"
   ]
  },
  {
   "cell_type": "code",
   "execution_count": null,
   "metadata": {},
   "outputs": [],
   "source": []
  }
 ],
 "metadata": {
  "kernelspec": {
   "display_name": "Python 3",
   "language": "python",
   "name": "python3"
  },
  "language_info": {
   "codemirror_mode": {
    "name": "ipython",
    "version": 3
   },
   "file_extension": ".py",
   "mimetype": "text/x-python",
   "name": "python",
   "nbconvert_exporter": "python",
   "pygments_lexer": "ipython3",
   "version": "3.8.5"
  }
 },
 "nbformat": 4,
 "nbformat_minor": 1
}
